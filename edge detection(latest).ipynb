{
 "cells": [
  {
   "cell_type": "code",
   "execution_count": 1,
   "id": "0affe94d",
   "metadata": {},
   "outputs": [
    {
     "name": "stdout",
     "output_type": "stream",
     "text": [
      "Requirement already satisfied: pandas in c:\\users\\purav\\anaconda3\\lib\\site-packages (1.3.4)\n",
      "Requirement already satisfied: numpy>=1.17.3 in c:\\users\\purav\\anaconda3\\lib\\site-packages (from pandas) (1.23.5)\n",
      "Requirement already satisfied: python-dateutil>=2.7.3 in c:\\users\\purav\\anaconda3\\lib\\site-packages (from pandas) (2.8.2)\n",
      "Requirement already satisfied: pytz>=2017.3 in c:\\users\\purav\\anaconda3\\lib\\site-packages (from pandas) (2021.3)\n",
      "Requirement already satisfied: six>=1.5 in c:\\users\\purav\\anaconda3\\lib\\site-packages (from python-dateutil>=2.7.3->pandas) (1.11.0)\n",
      "Note: you may need to restart the kernel to use updated packages.\n"
     ]
    }
   ],
   "source": [
    "pip install pandas"
   ]
  },
  {
   "cell_type": "code",
   "execution_count": 2,
   "id": "86569345",
   "metadata": {},
   "outputs": [
    {
     "name": "stdout",
     "output_type": "stream",
     "text": [
      "Requirement already satisfied: numpy in c:\\users\\purav\\anaconda3\\lib\\site-packages (1.23.5)\n",
      "Note: you may need to restart the kernel to use updated packages.\n"
     ]
    }
   ],
   "source": [
    "pip install numpy"
   ]
  },
  {
   "cell_type": "code",
   "execution_count": 3,
   "id": "230012b6",
   "metadata": {},
   "outputs": [
    {
     "name": "stdout",
     "output_type": "stream",
     "text": [
      "Requirement already satisfied: opencv-python in c:\\users\\purav\\anaconda3\\lib\\site-packages (4.6.0.66)\n",
      "Requirement already satisfied: numpy>=1.17.3 in c:\\users\\purav\\anaconda3\\lib\\site-packages (from opencv-python) (1.23.5)\n",
      "Note: you may need to restart the kernel to use updated packages.\n"
     ]
    }
   ],
   "source": [
    "pip install opencv-python"
   ]
  },
  {
   "cell_type": "code",
   "execution_count": 4,
   "id": "bfafb645",
   "metadata": {},
   "outputs": [
    {
     "name": "stdout",
     "output_type": "stream",
     "text": [
      "Requirement already satisfied: matplotlib in c:\\users\\purav\\anaconda3\\lib\\site-packages (3.4.3)\n",
      "Requirement already satisfied: pillow>=6.2.0 in c:\\users\\purav\\anaconda3\\lib\\site-packages (from matplotlib) (9.3.0)\n",
      "Requirement already satisfied: kiwisolver>=1.0.1 in c:\\users\\purav\\anaconda3\\lib\\site-packages (from matplotlib) (1.3.1)\n",
      "Requirement already satisfied: cycler>=0.10 in c:\\users\\purav\\anaconda3\\lib\\site-packages (from matplotlib) (0.10.0)\n",
      "Requirement already satisfied: python-dateutil>=2.7 in c:\\users\\purav\\anaconda3\\lib\\site-packages (from matplotlib) (2.8.2)\n",
      "Requirement already satisfied: pyparsing>=2.2.1 in c:\\users\\purav\\anaconda3\\lib\\site-packages (from matplotlib) (3.0.4)\n",
      "Requirement already satisfied: numpy>=1.16 in c:\\users\\purav\\anaconda3\\lib\\site-packages (from matplotlib) (1.23.5)\n",
      "Requirement already satisfied: six in c:\\users\\purav\\anaconda3\\lib\\site-packages (from cycler>=0.10->matplotlib) (1.11.0)\n",
      "Note: you may need to restart the kernel to use updated packages.\n"
     ]
    }
   ],
   "source": [
    "pip install matplotlib"
   ]
  },
  {
   "cell_type": "code",
   "execution_count": 6,
   "id": "aab3e8a1",
   "metadata": {},
   "outputs": [
    {
     "ename": "NameError",
     "evalue": "name 'contours' is not defined",
     "output_type": "error",
     "traceback": [
      "\u001b[1;31m---------------------------------------------------------------------------\u001b[0m",
      "\u001b[1;31mNameError\u001b[0m                                 Traceback (most recent call last)",
      "\u001b[1;32m~\\AppData\\Local\\Temp/ipykernel_3020/2602508180.py\u001b[0m in \u001b[0;36m<module>\u001b[1;34m\u001b[0m\n\u001b[0;32m      1\u001b[0m \u001b[1;31m# Find the area of each contour\u001b[0m\u001b[1;33m\u001b[0m\u001b[1;33m\u001b[0m\u001b[0m\n\u001b[1;32m----> 2\u001b[1;33m \u001b[1;32mfor\u001b[0m \u001b[0mcontour\u001b[0m \u001b[1;32min\u001b[0m \u001b[0mcontours\u001b[0m\u001b[1;33m:\u001b[0m\u001b[1;33m\u001b[0m\u001b[1;33m\u001b[0m\u001b[0m\n\u001b[0m\u001b[0;32m      3\u001b[0m     \u001b[0marea\u001b[0m \u001b[1;33m=\u001b[0m \u001b[0mcv2\u001b[0m\u001b[1;33m.\u001b[0m\u001b[0mcontourArea\u001b[0m\u001b[1;33m(\u001b[0m\u001b[0mcontour\u001b[0m\u001b[1;33m)\u001b[0m\u001b[1;33m\u001b[0m\u001b[1;33m\u001b[0m\u001b[0m\n\u001b[0;32m      4\u001b[0m     \u001b[0mprint\u001b[0m\u001b[1;33m(\u001b[0m\u001b[1;34m\"Contour area:\"\u001b[0m\u001b[1;33m,\u001b[0m \u001b[0marea\u001b[0m\u001b[1;33m)\u001b[0m\u001b[1;33m\u001b[0m\u001b[1;33m\u001b[0m\u001b[0m\n",
      "\u001b[1;31mNameError\u001b[0m: name 'contours' is not defined"
     ]
    }
   ],
   "source": [
    "# Find the area of each contour\n",
    "for contour in contours:\n",
    "    area = cv2.contourArea(contour)\n",
    "    print(\"Contour area:\", area)"
   ]
  },
  {
   "cell_type": "code",
   "execution_count": 18,
   "id": "ac544407",
   "metadata": {},
   "outputs": [
    {
     "data": {
      "text/plain": [
       "-1"
      ]
     },
     "execution_count": 18,
     "metadata": {},
     "output_type": "execute_result"
    }
   ],
   "source": [
    "import cv2\n",
    "import numpy as np\n",
    "import matplotlib.pyplot as plt\n",
    "# Load the image\n",
    "image = cv2.imread('layer1.jpg')\n",
    "height, width, channels = image.shape\n",
    "resized = cv2.resize(image, (int(width/2), int(height/2)))\n",
    "\n",
    "# Convert the image to grayscale\n",
    "gray = cv2.cvtColor(resized, cv2.COLOR_BGR2GRAY)\n",
    "#blurred = cv2.GaussianBlur(gray, (51, 51), 0)\n",
    "\n",
    "\n",
    "# Create a mask of the same size as the resized gray image\n",
    "mask = np.full_like(gray, 255)\n",
    "\n",
    "# Apply the mask to the original image\n",
    "masked = cv2.bitwise_and(resized,resized, mask=mask)\n",
    "\n",
    "\n",
    "#cannys edge Detection\n",
    "edged = cv2.Canny(masked, 100, 200)\n",
    "\n",
    "# Display the result\n",
    "cv2.imshow('Blurred Image', masked)\n",
    "cv2.waitKey(0)\n",
    "cv2.destroyAllWindows()\n",
    "edgecontours, _ = cv2.findContours(edged, cv2.RETR_EXTERNAL, cv2.CHAIN_APPROX_SIMPLE)\n",
    "image_copy = gray.copy()\n",
    "\n",
    "# draw the contours on a copy of the original image\n",
    "xyz = cv2.drawContours(image_copy, edgecontours, -1, (0,255, 0), 2)\n",
    "#print(float(len(edgecontours)), \"objects were found in this image.\")\n",
    "print = (xyz)\n",
    "cv2.imshow(\"Edged image\", edged)\n",
    "cv2.imshow(\"contours\", image_copy)\n",
    "cv2.imwrite('image_copy.jpg', image_copy)\n",
    "cv2.waitKey(0)\n",
    "\n",
    "\n"
   ]
  },
  {
   "cell_type": "markdown",
   "id": "71be3039",
   "metadata": {},
   "source": [
    "###### Contour area is measured usinng greens theorem the area enclosed by a closed curve by integrating the product of the x and y coordinates along the curve. In practice, this function sums up the areas of the triangles formed by connecting the contour points to the contour centroid."
   ]
  },
  {
   "cell_type": "code",
   "execution_count": 15,
   "id": "4cc17644",
   "metadata": {},
   "outputs": [
    {
     "name": "stdout",
     "output_type": "stream",
     "text": [
      "contour area [1.5, 0.0, 7.0, 25.0, 8.0, 55.0, 6.0, 18.5, 5.5, 249.5, 15.5, 10.0, 6.5, 2.5, 4.0, 12.5, 4.0, 93.5, 26.5, 10.0, 19.5, 13.0, 13.5, 20.5, 1553.0, 1.0, 22.5, 61.0, 5.0, 44.0, 8.5, 65.5, 4.0, 1.0, 38.5, 100.0, 15.5, 45.5, 44.5, 181.5]\n"
     ]
    },
    {
     "data": {
      "image/png": "[encoded data removed]",
      "text/plain": [
       "<Figure size 432x288 with 1 Axes>"
      ]
     },
     "metadata": {
      "needs_background": "light"
     },
     "output_type": "display_data"
    }
   ],
   "source": [
    "# Calculate the roughness parameters\n",
    "areas = [cv2.contourArea(c) for c in edgecontours]\n",
    "print(\"contour area\",areas) \n",
    "mean_area = np.mean(areas)\n",
    "std_area = np.std(areas)\n",
    "ra = np.mean(np.abs(areas - mean_area))\n",
    "rz = np.max(areas) - np.min(areas)\n",
    "rq = np.sqrt(np.mean(\n",
    "    np.square(areas - mean_area)))\n",
    "\n",
    "# Display the results\n",
    "plt.imshow(image_copy)\n",
    "plt.title(f\"Ra={ra:.2f}, Rz={rz:.2f}, Rq={rq:.2f}\")\n",
    "plt.show()"
   ]
  },
  {
   "cell_type": "code",
   "execution_count": 9,
   "id": "69d0b09c",
   "metadata": {},
   "outputs": [
    {
     "data": {
      "text/plain": [
       "-1"
      ]
     },
     "execution_count": 9,
     "metadata": {},
     "output_type": "execute_result"
    }
   ],
   "source": [
    "import cv2\n",
    "import numpy as np\n",
    "import matplotlib.pyplot as plt\n",
    "# Load the image\n",
    "Digital_image = cv2.imread('slice__5.png')\n",
    "h1, w1, channel = Digital_image.shape\n",
    "resized = cv2.resize(Digital_image, (int(w1/2), int(h1/2)))\n",
    "\n",
    "# Convert the image to grayscale\n",
    "gray_image = cv2.cvtColor(resized, cv2.COLOR_BGR2GRAY)\n",
    "blurred_image = cv2.GaussianBlur(gray_image, (51, 51), 0)\n",
    "\n",
    "\n",
    "# Create a mask of the same size as the resized gray image\n",
    "mask1 = np.full_like(gray_image, 255)\n",
    "\n",
    "# Apply the mask to the original image\n",
    "masked1 = cv2.bitwise_and(resized,resized, mask=mask1)\n",
    "\n",
    "\n",
    "#cannys edge Detection\n",
    "edged1 = cv2.Canny(masked1, 100, 200)\n",
    "\n",
    "# Display the result\n",
    "cv2.imshow('Blurred Image', masked1)\n",
    "cv2.waitKey(0)\n",
    "cv2.destroyAllWindows()\n",
    "edgecontours1, _ = cv2.findContours(edged1, cv2.RETR_EXTERNAL, cv2.CHAIN_APPROX_SIMPLE)\n",
    "image_copy1 = gray_image.copy()\n",
    "\n",
    "# draw the contours on a copy of the original image\n",
    "abc = cv2.drawContours(image_copy1, edgecontours1, -1, (0,255, 0), 2)\n",
    "#print(float(len(edgecontours1)), \"objects were found in this image.\")\n",
    "np.save(\"physical_contour.npy\",abc)\n",
    "cv2.imshow(\"Digital_Edged_image\", edged1)\n",
    "cv2.imshow(\"contours\", image_copy1)\n",
    "cv2.imwrite('image_copy1.jpg', image_copy1)\n",
    "cv2.waitKey(0)\n",
    "\n"
   ]
  },
  {
   "cell_type": "code",
   "execution_count": null,
   "id": "acd6fa9b",
   "metadata": {},
   "outputs": [],
   "source": []
  },
  {
   "cell_type": "markdown",
   "id": "ac78da65",
   "metadata": {},
   "source": [
    "# Digital Reference slicing of STL file"
   ]
  },
  {
   "cell_type": "code",
   "execution_count": 47,
   "id": "f23b200d",
   "metadata": {},
   "outputs": [
    {
     "name": "stderr",
     "output_type": "stream",
     "text": [
      "C:\\Users\\purav\\anaconda3\\lib\\site-packages\\pyvista\\jupyter\\notebook.py:58: UserWarning: Failed to use notebook backend: \n",
      "\n",
      "No module named 'trame.app'\n",
      "\n",
      "Falling back to a static output.\n",
      "  warnings.warn(\n"
     ]
    },
    {
     "data": {
      "image/png": "[encoded data removed]",
      "text/plain": [
       "<PIL.Image.Image image mode=RGB size=1024x768>"
      ]
     },
     "metadata": {},
     "output_type": "display_data"
    }
   ],
   "source": [
    "import pyvista as pv\n",
    "import numpy as np\n",
    "import cv2\n",
    "# Load the STL file\n",
    "pvmesh = pv.read(\"part1_upper mount.STL\")\n",
    "\n",
    "# Create a plotter object and add the mesh to it\n",
    "plotter = pv.Plotter()\n",
    "plotter.add_mesh(pvmesh)\n",
    "\n",
    "vertices = pvmesh.points\n",
    "\n",
    "# Find the maximum and minimum Z-coordinate values\n",
    "max_z = np.amax(vertices[:,2])\n",
    "min_z = np.amin(vertices[:,2])\n",
    "\n",
    "#n is the required number of slices\n",
    "n=15\n",
    "# Define the range of Z-coordinate values for the slices\n",
    "slice_z_values = np.linspace(min_z, max_z,n)\n",
    "\n",
    "# Add slicing planes to the plotter\n",
    "for z in slice_z_values:\n",
    "    plane = pv.Plane(center=(0, 0, z), i_size=300, j_size=500)\n",
    "    plotter.add_mesh(plane, color='red', opacity=0.5)\n",
    "   \n",
    "#Show the plotter\n",
    "plotter.show()\n",
    "\n",
    "\n",
    "#image of each slices\n",
    "# Loop over the slicing planes and create a slice for each one\n",
    "for i, z in enumerate(slice_z_values):\n",
    "    # Create the slicing plane\n",
    "    plane = pv.Plane(center=(0, 0, z), direction=(0, 0, -1),i_size=300, j_size=500)\n",
    "    \n",
    "    # Clip the mesh using the plane\n",
    "    cut_mesh = pvmesh.clip_surface(plane)\n",
    "    \n",
    "    # Add the clipped mesh to a plotter\n",
    "    plotter = pv.Plotter()\n",
    "    plotter.add_mesh(cut_mesh, color='red', show_edges=True)\n",
    "    # Set the camera position to view the mesh\n",
    "    # Set the camera position to view the mesh from the top\n",
    "    # Set the camera position to view the mesh from the top\n",
    "    #plotter.camera_position = [(0, 0, np.max(cut_mesh.points[:, 2]) * 2), (0, 0, 0), (0, 1, 0)]\n",
    "\n",
    "    #plotter.camera_position = [(0, 0, np.max(cut_mesh.points[:, 2]) * 2), (0, 0, 0), (0, 1, 0)]\n",
    "\n",
    "\n",
    "    \n",
    "    plotter.screenshot( f'slice_{i}.png') # Save the image to a file\n",
    "    image = cv2.imread(f'slice_{i}.png')\n",
    "    #cv2.imshow(\"slice_{i}.png\")\n"
   ]
  },
  {
   "cell_type": "code",
   "execution_count": null,
   "id": "7cf02689",
   "metadata": {},
   "outputs": [],
   "source": []
  },
  {
   "cell_type": "markdown",
   "id": "814a594d",
   "metadata": {},
   "source": [
    "# Generating Contour of images and Resizing "
   ]
  },
  {
   "cell_type": "markdown",
   "id": "acc4a9ab",
   "metadata": {},
   "source": [
    "### Load The images"
   ]
  },
  {
   "cell_type": "code",
   "execution_count": 56,
   "id": "d8977ccf",
   "metadata": {},
   "outputs": [],
   "source": [
    "\n",
    "# Importing Image class from PIL module\n",
    "from PIL import Image, ImageFilter\n",
    " \n",
    "# Opens a image in RGB mode\n",
    "im = Image.open(r\"layer1.jpg\")\n",
    "\n",
    "\n",
    "# Blurring the image\n",
    "im1 = im.filter(ImageFilter.GaussianBlur(4))\n",
    "img_array = np.array(im1)\n",
    "# Shows the image in image viewer\n",
    "im1.show()\n",
    " \n"
   ]
  },
  {
   "cell_type": "code",
   "execution_count": 54,
   "id": "a15c940e",
   "metadata": {},
   "outputs": [
    {
     "data": {
      "text/plain": [
       "PIL.Image.Image"
      ]
     },
     "execution_count": 54,
     "metadata": {},
     "output_type": "execute_result"
    }
   ],
   "source": [
    "type(im1)"
   ]
  },
  {
   "cell_type": "code",
   "execution_count": 55,
   "id": "abd53b2d",
   "metadata": {},
   "outputs": [
    {
     "data": {
      "text/plain": [
       "numpy.ndarray"
      ]
     },
     "execution_count": 55,
     "metadata": {},
     "output_type": "execute_result"
    }
   ],
   "source": [
    "type(ref_image)"
   ]
  },
  {
   "cell_type": "code",
   "execution_count": 8,
   "id": "963f4b85",
   "metadata": {},
   "outputs": [],
   "source": [
    "import cv2\n",
    "import numpy as np\n",
    "import matplotlib.pyplot as plt\n",
    "from PIL import Image, ImageFilter\n",
    "# Load the reference image\n",
    "\n",
    "ref_image = cv2.imread(\"test15.jpg\")\n",
    "im = Image.open(r\"test15.jpg\")\n",
    "# Blurring the image\n",
    "im1 = im.filter(ImageFilter.GaussianBlur(4))\n",
    "#convert image to array\n",
    "img_array = np.array(im1)\n",
    "height1, width1, channel1 = ref_image.shape\n",
    "ref_contour = cv2.resize(img_array, (int(width1/4), int(height1/4)))\n",
    "\n",
    "# load image to be resized\n",
    "second_image = cv2.imread('cube.jpg')\n",
    "second_image_ = Image.open(r\"cube.jpg\")\n",
    "# Blurring the image\n",
    "im2 = second_image_.filter(ImageFilter.GaussianBlur(4))\n",
    "#convert image to array\n",
    "img_array2 = np.array(im2)\n",
    "height2, width2, channel2 = second_image.shape\n",
    "second = cv2.resize(img_array2, (int(width2/5), int(height2/5)))"
   ]
  },
  {
   "cell_type": "markdown",
   "id": "8e444d63",
   "metadata": {},
   "source": [
    "### For Reference Contour edge detection\n"
   ]
  },
  {
   "cell_type": "code",
   "execution_count": 9,
   "id": "86072675",
   "metadata": {},
   "outputs": [
    {
     "data": {
      "text/plain": [
       "-1"
      ]
     },
     "execution_count": 9,
     "metadata": {},
     "output_type": "execute_result"
    }
   ],
   "source": [
    "# Convert the images to grayscale\n",
    "# Convert the image to grayscale\n",
    "gray = cv2.cvtColor(ref_contour, cv2.COLOR_BGR2GRAY)\n",
    "#blurred = cv2.GaussianBlur(gray, (51, 51), 0)\n",
    "\n",
    "\n",
    "\n",
    "# Create a mask of the same size as the resized gray image\n",
    "mask1 = np.full_like(gray, 255)\n",
    "\n",
    "# Apply the mask to the original image\n",
    "masked1 = cv2.bitwise_and(ref_contour,ref_contour, mask=mask1)\n",
    "\n",
    "\n",
    "#cannys edge Detection\n",
    "edged1 = cv2.Canny(masked1, 100, 200)\n",
    "\n",
    "# Display the result\n",
    "cv2.imshow('Blurred Image', masked1)\n",
    "cv2.waitKey(0)\n",
    "cv2.destroyAllWindows()\n",
    "edgecontours1, _ = cv2.findContours(edged1, cv2.RETR_EXTERNAL, cv2.CHAIN_APPROX_SIMPLE)\n",
    "image_copy1 = gray.copy()\n",
    "\n",
    "# draw the contours on a copy of the original image\n",
    "abc = cv2.drawContours(image_copy1, edgecontours1, -1, (0,255, 0), 2)\n",
    "#print(float(len(edgecontours)), \"objects were found in this image.\")\n",
    "#print = (xyz)\n",
    "cv2.imshow(\"Edged image\", edged1)\n",
    "cv2.imshow(\"contours\", image_copy1)\n",
    "cv2.imwrite('image_copy.jpg', image_copy1)\n",
    "cv2.waitKey(0)\n",
    "\n",
    "#for contour1 in ref_contours:\n",
    "  #  x1, y1, w1, h1 = cv2.boundingRect(contour1)\n",
    "  #  rect_1 = cv2.rectangle(abc, (x1, y1), (x1 + w1, y1 + h1), (0, 255, 0), 2)\n",
    "# Display the result\n",
    "#cv2.imshow('Bounding Rectangles', abc)\n",
    "#cv2.waitKey(0)"
   ]
  },
  {
   "cell_type": "markdown",
   "id": "e68c7d46",
   "metadata": {},
   "source": [
    "### For Second Contour edge detection\n"
   ]
  },
  {
   "cell_type": "code",
   "execution_count": 10,
   "id": "09201f3d",
   "metadata": {},
   "outputs": [
    {
     "data": {
      "text/plain": [
       "-1"
      ]
     },
     "execution_count": 10,
     "metadata": {},
     "output_type": "execute_result"
    }
   ],
   "source": [
    "# Convert the image to grayscale\n",
    "gray2 = cv2.cvtColor(second, cv2.COLOR_BGR2GRAY)\n",
    "#blurred = cv2.GaussianBlur(gray, (51, 51), 0)\n",
    "\n",
    "\n",
    "# Create a mask of the same size as the resized gray image\n",
    "mask2 = np.full_like(gray2, 255)\n",
    "\n",
    "# Apply the mask to the original image\n",
    "masked2 = cv2.bitwise_and(second,second, mask=mask2)\n",
    "\n",
    "\n",
    "#cannys edge Detection\n",
    "edged2 = cv2.Canny(masked2, 100, 200)\n",
    "\n",
    "# Display the result\n",
    "cv2.imshow('Blurred Image', masked2)\n",
    "cv2.waitKey(0)\n",
    "cv2.destroyAllWindows()\n",
    "edgecontours2, _ = cv2.findContours(edged2, cv2.RETR_EXTERNAL, cv2.CHAIN_APPROX_SIMPLE)\n",
    "image_copy2 = gray2.copy()\n",
    "\n",
    "# draw the contours on a copy of the original image\n",
    "xyz = cv2.drawContours(image_copy2, edgecontours2, -1, (0,255, 0), 2)\n",
    "#print(float(len(edgecontours)), \"objects were found in this image.\")\n",
    "print = (xyz)\n",
    "cv2.imshow(\"Edged image\", edged2)\n",
    "cv2.imshow(\"contours\", image_copy2)\n",
    "cv2.imwrite('image_copy.jpg', image_copy2)\n",
    "cv2.waitKey(0)\n",
    "\n",
    "#for contour2 in second_contours:\n",
    "  #  x2, y2, w2, h2 = cv2.boundingRect(contour2)\n",
    "  #  rect_2 = cv2.rectangle(xyz, (x2, y2), (x2 + w2, y2 + h2), (0, 255, 0), 2)\n",
    "# Display the result\n",
    "#cv2.imshow('Bounding Rectangle second', xyz)\n",
    "#cv2.waitKey(0)\n"
   ]
  },
  {
   "cell_type": "code",
   "execution_count": null,
   "id": "84ec7c69",
   "metadata": {},
   "outputs": [],
   "source": []
  },
  {
   "cell_type": "code",
   "execution_count": 4,
   "id": "7f50bfd4",
   "metadata": {},
   "outputs": [],
   "source": []
  },
  {
   "cell_type": "markdown",
   "id": "7a827cc2",
   "metadata": {},
   "source": [
    "### Rescale the secod contour with the Reference "
   ]
  },
  {
   "cell_type": "code",
   "execution_count": 11,
   "id": "97524d43",
   "metadata": {},
   "outputs": [],
   "source": [
    "import cv2\n",
    "import numpy as np\n",
    "\n",
    "# Read the two edge images\n",
    "#first = cv2.imread('slice_5.png')\n",
    "#height, width, channel = first.shape\n",
    "#img1= cv2.resize(first, (int(width/4), int(height/4)))\n",
    "#second = cv2.imread('slice__5.png')\n",
    "#img2= cv2.resize(second, (int(width/4), int(height/4)))\n",
    "\n",
    "# Perform edge detection using Canny\n",
    "#edges1 = cv2.Canny(img1, 100, 200)\n",
    "#edges2 = cv2.Canny(img2, 100, 200)\n",
    "\n",
    "# Find corresponding key points in both images using ORB feature matching\n",
    "orb = cv2.ORB_create()\n",
    "kp1, des1 = orb.detectAndCompute(edged1, None)\n",
    "kp2, des2 = orb.detectAndCompute(edged2, None)\n",
    "\n",
    "bf = cv2.BFMatcher(cv2.NORM_HAMMING, crossCheck=True)\n",
    "matches = bf.match(des1, des2)\n",
    "\n",
    "# Sort matches in the order of their distance\n",
    "matches = sorted(matches, key = lambda x:x.distance)\n",
    "\n",
    "# Get the corresponding points in both images\n",
    "pts1 = np.float32([kp1[m.queryIdx].pt for m in matches]).reshape(-1,1,2)\n",
    "pts2 = np.float32([kp2[m.trainIdx].pt for m in matches]).reshape(-1,1,2)\n",
    "\n",
    "# Find the transformation matrix using cv2.findHomography()\n",
    "M, _ = cv2.findHomography(pts1, pts2, cv2.RANSAC,5.0)\n",
    "\n",
    "# Warp one of the images so that it overlaps with the other image\n",
    "result = cv2.warpPerspective(edged1, M, (second.shape[1], second.shape[0]))\n",
    "\n",
    "# Display the result\n",
    "cv2.imshow(\"image1\",edged1)\n",
    "cv2.imshow(\"image2\",edged2)\n",
    "cv2.imshow(\"Result\", result)\n",
    "cv2.waitKey(0)\n",
    "cv2.destroyAllWindows()\n"
   ]
  },
  {
   "cell_type": "code",
   "execution_count": 13,
   "id": "d255cc0d",
   "metadata": {},
   "outputs": [],
   "source": [
    "import cv2\n",
    "import numpy as np\n",
    "\n",
    "# Load the images\n",
    "#img1 = cv2.imread('layer1.jpg')\n",
    "#img2 = cv2.imread('layer2.jpg')\n",
    "\n",
    "# Convert to grayscale\n",
    "#gray1 = cv2.cvtColor(img1, cv2.COLOR_BGR2GRAY)\n",
    "#gray2 = cv2.cvtColor(img2, cv2.COLOR_BGR2GRAY)\n",
    "\n",
    "# Detect features using ORB\n",
    "orb = cv2.ORB_create()\n",
    "kp1, des1 = orb.detectAndCompute(edged1, None)\n",
    "kp2, des2 = orb.detectAndCompute(edged2, None)\n",
    "\n",
    "# Match features using a Brute-Force Matcher\n",
    "bf = cv2.BFMatcher(cv2.NORM_HAMMING, crossCheck=True)\n",
    "matches = bf.match(des1, des2)\n",
    "\n",
    "# Sort matches by distance\n",
    "matches = sorted(matches, key=lambda x: x.distance)\n",
    "\n",
    "# Draw top matches\n",
    "img3 = cv2.drawMatches(edged1, kp1, edged2, kp2, matches[:100], None, flags=2)\n",
    "\n",
    "# Display the result\n",
    "cv2.imshow('Matches', img3)\n",
    "cv2.waitKey(0)\n",
    "cv2.destroyAllWindows()\n"
   ]
  },
  {
   "cell_type": "code",
   "execution_count": 12,
   "id": "8bffea3c",
   "metadata": {},
   "outputs": [
    {
     "data": {
      "image/png": "[encoded data removed]",
      "text/plain": [
       "<Figure size 432x288 with 1 Axes>"
      ]
     },
     "metadata": {
      "needs_background": "light"
     },
     "output_type": "display_data"
    }
   ],
   "source": [
    "import matplotlib.pyplot as plt\n",
    "# Plot the first contour in red\n",
    "plt.plot(edged2[:, 0], edged2[:, 1], color='r', label='Contour 1')\n",
    "\n",
    "# Plot the second contour in blue\n",
    "plt.plot(M[:, 0], M[:, 1], color='b', label='Contour 2')\n",
    "\n",
    "# Set the x and y axis limits to the maximum and minimum values of the two contours\n",
    "xlim = [min(np.min(edged2[:, 0]), np.min(M[:, 0])), max(np.max(edged2[:, 0]), np.max(M[:, 0]))]\n",
    "ylim = [min(np.min(edged2[:, 1]), np.min(M[:, 1])), max(np.max(edged2[:, 1]), np.max(M[:, 1]))]\n",
    "plt.xlim(xlim)\n",
    "plt.ylim(ylim)\n",
    "\n",
    "# Add legend and title\n",
    "plt.legend()\n",
    "plt.title('Overlayed Contours')\n",
    "\n",
    "# Show the plot\n",
    "plt.show()\n",
    "\n",
    "\n",
    "\n",
    "\n",
    "\n"
   ]
  },
  {
   "cell_type": "code",
   "execution_count": 7,
   "id": "1767f873",
   "metadata": {},
   "outputs": [],
   "source": [
    "import cv2\n",
    "# Overlap the two images\n",
    "alpha = 0.5\n",
    "beta = 1.0 - alpha\n",
    "img_final = cv2.addWeighted(edged2, alpha, result, beta, 0.0)\n",
    "# Display the final image\n",
    "cv2.imshow('Contours', img_final)\n",
    "cv2.waitKey(0)\n",
    "cv2.destroyAllWindows()"
   ]
  },
  {
   "cell_type": "code",
   "execution_count": 40,
   "id": "18debf46",
   "metadata": {},
   "outputs": [
    {
     "data": {
      "text/plain": [
       "2.0004051093767488"
      ]
     },
     "execution_count": 40,
     "metadata": {},
     "output_type": "execute_result"
    }
   ],
   "source": [
    "\n",
    "# Calculate the MSE between the two contours\n",
    "mse = np.mean((edged2 - result)**2)\n",
    "\n",
    "# Calculate the distortion value\n",
    "distortion = np.sqrt(mse)\n",
    "\n",
    "# Print the distortion value to the console\n",
    "distortion"
   ]
  },
  {
   "cell_type": "code",
   "execution_count": 42,
   "id": "3f3f41d4",
   "metadata": {},
   "outputs": [
    {
     "data": {
      "text/plain": [
       "0.3338015128324766"
      ]
     },
     "execution_count": 42,
     "metadata": {},
     "output_type": "execute_result"
    }
   ],
   "source": [
    "#Flatten images into 1D arrays\n",
    "reference_array = edged2.flatten()\n",
    "representation_array = result.flatten()\n",
    "\n",
    "# Calculate correlation coefficient\n",
    "corr_coef = np.corrcoef(reference_array, representation_array)[0,1]\n",
    "#print('Correlation Coefficient:', corr_coef)\n",
    "corr_coef"
   ]
  },
  {
   "cell_type": "code",
   "execution_count": 45,
   "id": "f3d6b6dc",
   "metadata": {},
   "outputs": [
    {
     "ename": "error",
     "evalue": "OpenCV(4.6.0) D:\\a\\opencv-python\\opencv-python\\opencv\\modules\\imgproc\\src\\shapedescr.cpp:280: error: (-215:Assertion failed) count >= 0 && (depth == CV_32F || depth == CV_32S) in function 'cv::arcLength'\n",
     "output_type": "error",
     "traceback": [
      "\u001b[1;31m---------------------------------------------------------------------------\u001b[0m",
      "\u001b[1;31merror\u001b[0m                                     Traceback (most recent call last)",
      "\u001b[1;32m~\\AppData\\Local\\Temp/ipykernel_50256/464035310.py\u001b[0m in \u001b[0;36m<module>\u001b[1;34m\u001b[0m\n\u001b[0;32m     13\u001b[0m \u001b[1;31m# Compute the length of each contour\u001b[0m\u001b[1;33m\u001b[0m\u001b[1;33m\u001b[0m\u001b[0m\n\u001b[0;32m     14\u001b[0m \u001b[1;33m\u001b[0m\u001b[0m\n\u001b[1;32m---> 15\u001b[1;33m \u001b[0mcurvy_length\u001b[0m \u001b[1;33m=\u001b[0m \u001b[0mcv2\u001b[0m\u001b[1;33m.\u001b[0m\u001b[0marcLength\u001b[0m\u001b[1;33m(\u001b[0m\u001b[0mlen\u001b[0m\u001b[1;33m(\u001b[0m\u001b[0medged1\u001b[0m\u001b[1;33m)\u001b[0m\u001b[1;33m,\u001b[0m \u001b[1;32mTrue\u001b[0m\u001b[1;33m)\u001b[0m\u001b[1;33m\u001b[0m\u001b[1;33m\u001b[0m\u001b[0m\n\u001b[0m\u001b[0;32m     16\u001b[0m \u001b[1;33m\u001b[0m\u001b[0m\n\u001b[0;32m     17\u001b[0m \u001b[0mline_length\u001b[0m \u001b[1;33m=\u001b[0m \u001b[0mcv2\u001b[0m\u001b[1;33m.\u001b[0m\u001b[0marcLength\u001b[0m\u001b[1;33m(\u001b[0m\u001b[0mlen\u001b[0m\u001b[1;33m(\u001b[0m\u001b[0medged2\u001b[0m\u001b[1;33m)\u001b[0m\u001b[1;33m,\u001b[0m \u001b[1;32mTrue\u001b[0m\u001b[1;33m)\u001b[0m\u001b[1;33m\u001b[0m\u001b[1;33m\u001b[0m\u001b[0m\n",
      "\u001b[1;31merror\u001b[0m: OpenCV(4.6.0) D:\\a\\opencv-python\\opencv-python\\opencv\\modules\\imgproc\\src\\shapedescr.cpp:280: error: (-215:Assertion failed) count >= 0 && (depth == CV_32F || depth == CV_32S) in function 'cv::arcLength'\n"
     ]
    }
   ],
   "source": [
    "import cv2\n",
    "\n",
    "import numpy as np\n",
    "\n",
    "\n",
    "# Load the curvy and perfect line contours\n",
    "\n",
    "#curvy_contour = np.load(edged1)\n",
    "\n",
    "#line_contour = np.load(edged2)\n",
    "\n",
    "\n",
    "# Compute the length of each contour\n",
    "\n",
    "curvy_length = cv2.arcLength(edged1, True)\n",
    "\n",
    "line_length = cv2.arcLength(edged2, True)\n",
    "\n",
    "\n",
    "# Resample both contours to have the same number of points\n",
    "\n",
    "num_points = 100\n",
    "\n",
    "curvy_contour = cv2.approxPolyDP(curvy_contour, curvy_length / num_points, True)\n",
    "\n",
    "line_contour = cv2.approxPolyDP(line_contour, line_length / num_points, True)\n",
    "\n",
    "\n",
    "# Initialize an array to store the distances between the two contours\n",
    "\n",
    "distances = np.zeros(len(curvy_contour))\n",
    "\n",
    "\n",
    "# For each point on the curvy contour, find the closest point on the line contour\n",
    "\n",
    "for i, point in enumerate(curvy_contour):\n",
    "    distances[i] = np.min(np.sqrt(np.sum((line_contour - point) ** 2, axis=1)))\n",
    "\n",
    "\n",
    "# Compute the mean and maximum distances\n",
    "\n",
    "mean_distance = np.mean(distances)\n",
    "\n",
    "max_distance = np.max(distances)\n",
    "\n",
    "\n",
    "# Visualize the distance between the two contours\n",
    "\n",
    "# Plot the curvy contour and the perfect line contour together\n",
    "\n",
    "image = np.zeros((500, 500))\n",
    "\n",
    "cv2.drawContours(image, [curvy_contour], -1, (255, 255, 255), 2)\n",
    "\n",
    "cv2.drawContours(image, [line_contour], -1, (255, 0, 0), 2)\n",
    "\n",
    "# Highlight the points where the distance is the greatest\n",
    "\n",
    "for i, point in enumerate(curvy_contour):\n",
    "    if distances[i] == max_distance:\n",
    "        cv2.circle(image, tuple(point[0]), 5, (0, 0, 255), -1)\n",
    "\n",
    "\n",
    "# Display the results\n",
    "\n",
    "cv2.imshow('Distance Analysis', image)\n",
    "\n",
    "cv2.waitKey(0)\n",
    "\n",
    "cv2.destroyAllWindows()\n",
    "\n",
    "\n",
    "\n"
   ]
  },
  {
   "cell_type": "code",
   "execution_count": 44,
   "id": "8fc84e36",
   "metadata": {},
   "outputs": [
    {
     "ename": "TypeError",
     "evalue": "'numpy.uint8' object is not iterable",
     "output_type": "error",
     "traceback": [
      "\u001b[1;31m---------------------------------------------------------------------------\u001b[0m",
      "\u001b[1;31mTypeError\u001b[0m                                 Traceback (most recent call last)",
      "\u001b[1;32m~\\AppData\\Local\\Temp/ipykernel_39488/1654289940.py\u001b[0m in \u001b[0;36m<module>\u001b[1;34m\u001b[0m\n\u001b[0;32m     14\u001b[0m     \u001b[1;32mreturn\u001b[0m \u001b[0mleftmost\u001b[0m\u001b[1;33m,\u001b[0m \u001b[0mrightmost\u001b[0m\u001b[1;33m,\u001b[0m \u001b[0mtopmost\u001b[0m\u001b[1;33m,\u001b[0m \u001b[0mbottommost\u001b[0m\u001b[1;33m\u001b[0m\u001b[1;33m\u001b[0m\u001b[0m\n\u001b[0;32m     15\u001b[0m \u001b[1;33m\u001b[0m\u001b[0m\n\u001b[1;32m---> 16\u001b[1;33m \u001b[0moutermost1\u001b[0m \u001b[1;33m=\u001b[0m \u001b[0mfind_outermost_points\u001b[0m\u001b[1;33m(\u001b[0m\u001b[0mcontour1\u001b[0m\u001b[1;33m)\u001b[0m\u001b[1;33m\u001b[0m\u001b[1;33m\u001b[0m\u001b[0m\n\u001b[0m\u001b[0;32m     17\u001b[0m \u001b[0moutermost2\u001b[0m \u001b[1;33m=\u001b[0m \u001b[0mfind_outermost_points\u001b[0m\u001b[1;33m(\u001b[0m\u001b[0mcontour2\u001b[0m\u001b[1;33m)\u001b[0m\u001b[1;33m\u001b[0m\u001b[1;33m\u001b[0m\u001b[0m\n\u001b[0;32m     18\u001b[0m \u001b[1;33m\u001b[0m\u001b[0m\n",
      "\u001b[1;32m~\\AppData\\Local\\Temp/ipykernel_39488/1654289940.py\u001b[0m in \u001b[0;36mfind_outermost_points\u001b[1;34m(contour)\u001b[0m\n\u001b[0;32m      8\u001b[0m \u001b[1;31m# Find the outermost points on each contour\u001b[0m\u001b[1;33m\u001b[0m\u001b[1;33m\u001b[0m\u001b[0m\n\u001b[0;32m      9\u001b[0m \u001b[1;32mdef\u001b[0m \u001b[0mfind_outermost_points\u001b[0m\u001b[1;33m(\u001b[0m\u001b[0mcontour\u001b[0m\u001b[1;33m)\u001b[0m\u001b[1;33m:\u001b[0m\u001b[1;33m\u001b[0m\u001b[1;33m\u001b[0m\u001b[0m\n\u001b[1;32m---> 10\u001b[1;33m     \u001b[0mleftmost\u001b[0m \u001b[1;33m=\u001b[0m \u001b[0mtuple\u001b[0m\u001b[1;33m(\u001b[0m\u001b[0mcontour\u001b[0m\u001b[1;33m[\u001b[0m\u001b[0mcontour\u001b[0m\u001b[1;33m[\u001b[0m\u001b[1;33m:\u001b[0m\u001b[1;33m,\u001b[0m\u001b[1;33m:\u001b[0m\u001b[1;33m]\u001b[0m\u001b[1;33m.\u001b[0m\u001b[0margmin\u001b[0m\u001b[1;33m(\u001b[0m\u001b[1;33m)\u001b[0m\u001b[1;33m]\u001b[0m\u001b[1;33m[\u001b[0m\u001b[1;36m0\u001b[0m\u001b[1;33m]\u001b[0m\u001b[1;33m)\u001b[0m\u001b[1;33m\u001b[0m\u001b[1;33m\u001b[0m\u001b[0m\n\u001b[0m\u001b[0;32m     11\u001b[0m     \u001b[0mrightmost\u001b[0m \u001b[1;33m=\u001b[0m \u001b[0mtuple\u001b[0m\u001b[1;33m(\u001b[0m\u001b[0mcontour\u001b[0m\u001b[1;33m[\u001b[0m\u001b[0mcontour\u001b[0m\u001b[1;33m[\u001b[0m\u001b[1;33m:\u001b[0m\u001b[1;33m,\u001b[0m\u001b[1;33m:\u001b[0m\u001b[1;33m]\u001b[0m\u001b[1;33m.\u001b[0m\u001b[0margmax\u001b[0m\u001b[1;33m(\u001b[0m\u001b[1;33m)\u001b[0m\u001b[1;33m]\u001b[0m\u001b[1;33m[\u001b[0m\u001b[1;36m0\u001b[0m\u001b[1;33m]\u001b[0m\u001b[1;33m)\u001b[0m\u001b[1;33m\u001b[0m\u001b[1;33m\u001b[0m\u001b[0m\n\u001b[0;32m     12\u001b[0m     \u001b[0mtopmost\u001b[0m \u001b[1;33m=\u001b[0m \u001b[0mtuple\u001b[0m\u001b[1;33m(\u001b[0m\u001b[0mcontour\u001b[0m\u001b[1;33m[\u001b[0m\u001b[0mcontour\u001b[0m\u001b[1;33m[\u001b[0m\u001b[1;33m:\u001b[0m\u001b[1;33m,\u001b[0m\u001b[1;33m:\u001b[0m\u001b[1;33m,\u001b[0m\u001b[1;36m1\u001b[0m\u001b[1;33m]\u001b[0m\u001b[1;33m.\u001b[0m\u001b[0margmin\u001b[0m\u001b[1;33m(\u001b[0m\u001b[1;33m)\u001b[0m\u001b[1;33m]\u001b[0m\u001b[1;33m[\u001b[0m\u001b[1;36m0\u001b[0m\u001b[1;33m]\u001b[0m\u001b[1;33m)\u001b[0m\u001b[1;33m\u001b[0m\u001b[1;33m\u001b[0m\u001b[0m\n",
      "\u001b[1;31mTypeError\u001b[0m: 'numpy.uint8' object is not iterable"
     ]
    }
   ],
   "source": [
    "import cv2\n",
    "import numpy as np\n",
    "\n",
    "# Load two contours\n",
    "contour1 = edged1 # replace with your contour points\n",
    "contour2 = edged2 # replace with your contour points\n",
    "\n",
    "# Find the outermost points on each contour\n",
    "def find_outermost_points(contour):\n",
    "    leftmost = tuple(contour[contour[:,:].argmin()][0])\n",
    "    rightmost = tuple(contour[contour[:,:].argmax()][0])\n",
    "    topmost = tuple(contour[contour[:,:,1].argmin()][0])\n",
    "    bottommost = tuple(contour[contour[:,:,1].argmax()][0])\n",
    "    return leftmost, rightmost, topmost, bottommost\n",
    "\n",
    "outermost1 = find_outermost_points(contour1)\n",
    "outermost2 = find_outermost_points(contour2)\n",
    "\n",
    "# Sort the outermost points by their position\n",
    "def sort_points(points):\n",
    "    x_sorted = sorted(points, key=lambda x: x[0])\n",
    "    leftmost = x_sorted[0]\n",
    "    rightmost = x_sorted[-1]\n",
    "    y_sorted = sorted(points, key=lambda x: x[1])\n",
    "    topmost = y_sorted[0]\n",
    "    bottommost = y_sorted[-1]\n",
    "    return leftmost, rightmost, topmost, bottommost\n",
    "\n",
    "sorted1 = sort_points(outermost1)\n",
    "sorted2 = sort_points(outermost2)\n",
    "\n",
    "# Calculate the scaling factor for each contour\n",
    "def calculate_scaling_factor(points1, points2):\n",
    "    distance1 = np.sqrt((points1[2][0]-points1[0][0])**2 + (points1[2][1]-points1[0][1])**2)\n",
    "    distance2 = np.sqrt((points2[2][0]-points2[0][0])**2 + (points2[2][1]-points2[0][1])**2)\n",
    "    scaling_factor = distance2 / distance1\n",
    "    return scaling_factor\n",
    "\n",
    "scaling_factor1 = calculate_scaling_factor(sorted1, sorted2)\n",
    "scaling_factor2 = calculate_scaling_factor(sorted2, sorted1)\n",
    "\n",
    "# Resize each contour using the scaling factor\n",
    "def resize_contour(contour, scaling_factor):\n",
    "    centroid = np.mean(contour, axis=0)\n",
    "    contour = (contour - centroid) * scaling_factor + centroid\n",
    "    return contour\n",
    "\n",
    "resized1 = resize_contour(contour1, scaling_factor1)\n",
    "resized2 = resize_contour(contour2, scaling_factor2)\n"
   ]
  },
  {
   "cell_type": "code",
   "execution_count": 2,
   "id": "9098f509",
   "metadata": {},
   "outputs": [
    {
     "name": "stdout",
     "output_type": "stream",
     "text": [
      "Collecting pyvista\n",
      "  Downloading pyvista-0.38.3-py3-none-any.whl (1.6 MB)\n",
      "Collecting imageio\n",
      "  Downloading imageio-2.26.0-py3-none-any.whl (3.4 MB)\n",
      "Collecting scooby>=0.5.1\n",
      "  Downloading scooby-0.7.1-py3-none-any.whl (16 kB)\n",
      "Requirement already satisfied: numpy in c:\\users\\purav\\anaconda3\\envs\\requirements\\lib\\site-packages (from pyvista) (1.24.2)\n",
      "Collecting vtk\n",
      "  Downloading vtk-9.2.6-cp310-cp310-win_amd64.whl (48.8 MB)\n",
      "Requirement already satisfied: pillow in c:\\users\\purav\\anaconda3\\envs\\requirements\\lib\\site-packages (from pyvista) (9.4.0)\n",
      "Collecting pooch\n",
      "  Downloading pooch-1.7.0-py3-none-any.whl (60 kB)\n",
      "Collecting requests>=2.19.0\n",
      "  Downloading requests-2.28.2-py3-none-any.whl (62 kB)\n",
      "Requirement already satisfied: packaging>=20.0 in c:\\users\\purav\\anaconda3\\envs\\requirements\\lib\\site-packages (from pooch->pyvista) (21.3)\n",
      "Collecting platformdirs>=2.5.0\n",
      "  Downloading platformdirs-3.1.1-py3-none-any.whl (14 kB)\n",
      "Requirement already satisfied: pyparsing!=3.0.5,>=2.0.2 in c:\\users\\purav\\anaconda3\\envs\\requirements\\lib\\site-packages (from packaging>=20.0->pooch->pyvista) (3.0.4)\n",
      "Collecting charset-normalizer<4,>=2\n",
      "  Downloading charset_normalizer-3.1.0-cp310-cp310-win_amd64.whl (97 kB)\n",
      "Requirement already satisfied: certifi>=2017.4.17 in c:\\users\\purav\\anaconda3\\envs\\requirements\\lib\\site-packages (from requests>=2.19.0->pooch->pyvista) (2021.5.30)\n",
      "Collecting idna<4,>=2.5\n",
      "  Downloading idna-3.4-py3-none-any.whl (61 kB)\n",
      "Collecting urllib3<1.27,>=1.21.1\n",
      "  Downloading urllib3-1.26.14-py2.py3-none-any.whl (140 kB)\n",
      "Requirement already satisfied: matplotlib>=2.0.0 in c:\\users\\purav\\anaconda3\\envs\\requirements\\lib\\site-packages (from vtk->pyvista) (3.7.1)\n",
      "Requirement already satisfied: contourpy>=1.0.1 in c:\\users\\purav\\anaconda3\\envs\\requirements\\lib\\site-packages (from matplotlib>=2.0.0->vtk->pyvista) (1.0.7)\n",
      "Requirement already satisfied: cycler>=0.10 in c:\\users\\purav\\anaconda3\\envs\\requirements\\lib\\site-packages (from matplotlib>=2.0.0->vtk->pyvista) (0.11.0)\n",
      "Requirement already satisfied: python-dateutil>=2.7 in c:\\users\\purav\\anaconda3\\envs\\requirements\\lib\\site-packages (from matplotlib>=2.0.0->vtk->pyvista) (2.8.2)\n",
      "Requirement already satisfied: fonttools>=4.22.0 in c:\\users\\purav\\anaconda3\\envs\\requirements\\lib\\site-packages (from matplotlib>=2.0.0->vtk->pyvista) (4.38.0)\n",
      "Requirement already satisfied: kiwisolver>=1.0.1 in c:\\users\\purav\\anaconda3\\envs\\requirements\\lib\\site-packages (from matplotlib>=2.0.0->vtk->pyvista) (1.4.4)\n",
      "Requirement already satisfied: six>=1.5 in c:\\users\\purav\\anaconda3\\envs\\requirements\\lib\\site-packages (from python-dateutil>=2.7->matplotlib>=2.0.0->vtk->pyvista) (1.16.0)\n",
      "Installing collected packages: urllib3, idna, charset-normalizer, requests, platformdirs, vtk, scooby, pooch, imageio, pyvista\n",
      "Successfully installed charset-normalizer-3.1.0 idna-3.4 imageio-2.26.0 platformdirs-3.1.1 pooch-1.7.0 pyvista-0.38.3 requests-2.28.2 scooby-0.7.1 urllib3-1.26.14 vtk-9.2.6\n",
      "Note: you may need to restart the kernel to use updated packages.\n"
     ]
    }
   ],
   "source": [
    "pip install pyvista"
   ]
  },
  {
   "cell_type": "code",
   "execution_count": 15,
   "id": "7ee82e36",
   "metadata": {},
   "outputs": [],
   "source": [
    "ref_contour = cv2.imread(\"image_copy.jpg\")\n"
   ]
  },
  {
   "cell_type": "markdown",
   "id": "5b510f53",
   "metadata": {},
   "source": [
    "# \"the Ra value obtained from image processing can be compared with the Ra value obtained from physical measurement using a profilometer.\""
   ]
  },
  {
   "cell_type": "markdown",
   "id": "a2ce1bbb",
   "metadata": {},
   "source": [
    "## 1.Mean square error"
   ]
  },
  {
   "cell_type": "code",
   "execution_count": null,
   "id": "9a2b4e20",
   "metadata": {},
   "outputs": [],
   "source": [
    "import cv2\n",
    "\n",
    "# Load reference and representation images\n",
    "reference_img = cv2.imread('reference_image.jpg')\n",
    "representation_img = cv2.imread('representation_image.jpg')\n",
    "\n",
    "# Calculate MSE\n",
    "mse = ((reference_img - representation_img) ** 2).mean(axis=None)\n",
    "print('MSE:', mse)"
   ]
  },
  {
   "cell_type": "markdown",
   "id": "9ed3c95e",
   "metadata": {},
   "source": [
    "## 2. Correlation Coefficient "
   ]
  },
  {
   "cell_type": "code",
   "execution_count": null,
   "id": "a06d99b2",
   "metadata": {},
   "outputs": [],
   "source": [
    "import numpy as np\n",
    "\n",
    "# Load reference and representation images\n",
    "reference_img = cv2.imread('reference_image.jpg', 0)\n",
    "representation_img = cv2.imread('representation_image.jpg', 0)\n",
    "\n",
    "# Flatten images into 1D arrays\n",
    "reference_array = reference_img.flatten()\n",
    "representation_array = representation_img.flatten()\n",
    "\n",
    "# Calculate correlation coefficient\n",
    "corr_coef = np.corrcoef(reference_array, representation_array)[0,1]\n",
    "print('Correlation Coefficient:', corr_coef)"
   ]
  },
  {
   "cell_type": "markdown",
   "id": "8b8d2d43",
   "metadata": {},
   "source": [
    "## 3. Structural similarity Index "
   ]
  },
  {
   "cell_type": "code",
   "execution_count": null,
   "id": "9553c291",
   "metadata": {},
   "outputs": [],
   "source": [
    "from skimage.metrics import structural_similarity as ssim\n",
    "\n",
    "# Load reference and representation images\n",
    "reference_img = cv2.imread('reference_image.jpg', 0)\n",
    "representation_img = cv2.imread('representation_image.jpg', 0)\n",
    "\n",
    "# Calculate SSIM\n",
    "ssim_score = ssim(reference_img, representation_img, data_range=representation_img.max() - representation_img.min())\n",
    "print('SSIM:', ssim_score)\n"
   ]
  }
 ],
 "metadata": {
  "kernelspec": {
   "display_name": "Python 3 (ipykernel)",
   "language": "python",
   "name": "python3"
  },
  "language_info": {
   "codemirror_mode": {
    "name": "ipython",
    "version": 3
   },
   "file_extension": ".py",
   "mimetype": "text/x-python",
   "name": "python",
   "nbconvert_exporter": "python",
   "pygments_lexer": "ipython3",
   "version": "3.9.7"
  }
 },
 "nbformat": 4,
 "nbformat_minor": 5
}
